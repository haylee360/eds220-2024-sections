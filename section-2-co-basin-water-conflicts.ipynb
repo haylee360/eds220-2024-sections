{
 "cells": [
  {
   "cell_type": "markdown",
   "id": "b7ef0e29-48d0-403c-930e-33c42879b51d",
   "metadata": {},
   "source": [
    "# Co basin water"
   ]
  },
  {
   "cell_type": "code",
   "execution_count": 2,
   "id": "142415c2-6930-4be8-a3e9-25e78c7e2da6",
   "metadata": {
    "tags": []
   },
   "outputs": [],
   "source": [
    "import pandas as pd\n",
    "\n",
    "df = pd.read_csv(\"data/Colorado River Basin Water Conflict Table.csv\")\n",
    "\n",
    "pd.set_option(\"display.max_columns\", None)"
   ]
  }
 ],
 "metadata": {
  "kernelspec": {
   "display_name": "Anaconda 3 (Base)",
   "language": "python",
   "name": "base"
  },
  "language_info": {
   "codemirror_mode": {
    "name": "ipython",
    "version": 3
   },
   "file_extension": ".py",
   "mimetype": "text/x-python",
   "name": "python",
   "nbconvert_exporter": "python",
   "pygments_lexer": "ipython3",
   "version": "3.9.13"
  }
 },
 "nbformat": 4,
 "nbformat_minor": 5
}
