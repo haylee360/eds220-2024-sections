{
 "cells": [
  {
   "cell_type": "markdown",
   "id": "8397acdd-5405-46f4-b607-4865f660a426",
   "metadata": {},
   "source": [
    "# Snowshoe hares\n"
   ]
  },
  {
   "cell_type": "markdown",
   "id": "ec073493-810f-44ee-998a-c52d81567267",
   "metadata": {
    "tags": []
   },
   "source": [
    "![image_description](https://upload.wikimedia.org/wikipedia/commons/8/8a/SNOWSHOE_HARE_%28Lepus_americanus%29_%285-28-2015%29_quoddy_head%2C_washington_co%2C_maine_-01_%2818988734889%29.jpg)"
   ]
  },
  {
   "cell_type": "code",
   "execution_count": 5,
   "id": "4987e7d0-1781-4c98-ac8b-7c445612e264",
   "metadata": {
    "tags": []
   },
   "outputs": [],
   "source": [
    "import pandas as pd\n",
    "import numpy as np\n",
    "URL = 'https://portal.edirepository.org/nis/dataviewer?packageid=knb-lter-bnz.55.22&entityid=f01f5d71be949b8c700b6ecd1c42c701'\n",
    "\n",
    "hares = pd.read_csv(URL)"
   ]
  },
  {
   "cell_type": "code",
   "execution_count": 3,
   "id": "bfa95043-d5fa-417d-a834-4e0c6956268a",
   "metadata": {
    "tags": []
   },
   "outputs": [
    {
     "data": {
      "text/plain": [
       "F      1161\n",
       "M       730\n",
       "f       556\n",
       "m       515\n",
       "NaN     352\n",
       "?        40\n",
       "F?       10\n",
       "f         4\n",
       "m         4\n",
       "f?        3\n",
       "M?        2\n",
       "m?        2\n",
       "pf        1\n",
       "Name: sex, dtype: int64"
      ]
     },
     "execution_count": 3,
     "metadata": {},
     "output_type": "execute_result"
    }
   ],
   "source": [
    "hares['sex'].value_counts(dropna = False)"
   ]
  },
  {
   "cell_type": "code",
   "execution_count": 6,
   "id": "9eebd3a4-1708-4bf8-95e7-1cfc2685da9b",
   "metadata": {
    "tags": []
   },
   "outputs": [
    {
     "name": "stdout",
     "output_type": "stream",
     "text": [
      "0        nan\n",
      "1       male\n",
      "2       male\n",
      "3        nan\n",
      "4        nan\n",
      "        ... \n",
      "3375     nan\n",
      "3376     nan\n",
      "3377     nan\n",
      "3378     nan\n",
      "3379    male\n",
      "Name: sex_simple, Length: 3380, dtype: object\n"
     ]
    }
   ],
   "source": [
    "conditions = [hares['sex'].isin(['F', 'f', 'f ']),\n",
    "             hares['sex'].isin(['M', 'm', 'm '])]\n",
    "\n",
    "gender = ['female', 'male']\n",
    "\n",
    "hares['sex_simple']=np.select(conditions, gender, default=np.nan)\n",
    "\n",
    "print(hares['sex_simple'])"
   ]
  },
  {
   "cell_type": "code",
   "execution_count": 7,
   "id": "a5b0bdb2-197e-49b8-8f65-a0be177195d6",
   "metadata": {
    "tags": []
   },
   "outputs": [
    {
     "data": {
      "text/plain": [
       "sex_simple\n",
       "female    1365.164792\n",
       "male      1349.935542\n",
       "nan       1193.364055\n",
       "Name: weight, dtype: float64"
      ]
     },
     "execution_count": 7,
     "metadata": {},
     "output_type": "execute_result"
    }
   ],
   "source": [
    "hares.groupby('sex_simple').weight.mean()"
   ]
  },
  {
   "cell_type": "code",
   "execution_count": null,
   "id": "8e65303e-61a1-4149-ab19-0f4a22b9eb1e",
   "metadata": {},
   "outputs": [],
   "source": []
  }
 ],
 "metadata": {
  "kernelspec": {
   "display_name": "Anaconda 3 (Base)",
   "language": "python",
   "name": "base"
  },
  "language_info": {
   "codemirror_mode": {
    "name": "ipython",
    "version": 3
   },
   "file_extension": ".py",
   "mimetype": "text/x-python",
   "name": "python",
   "nbconvert_exporter": "python",
   "pygments_lexer": "ipython3",
   "version": "3.9.13"
  }
 },
 "nbformat": 4,
 "nbformat_minor": 5
}
