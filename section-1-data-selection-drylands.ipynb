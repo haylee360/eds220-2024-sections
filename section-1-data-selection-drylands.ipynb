{
 "cells": [
  {
   "cell_type": "markdown",
   "id": "fd2f3122-da9a-4025-992e-c1b664e7fb42",
   "metadata": {},
   "source": [
    "# Section 1 Preliminary Data Exploration with Pandas\n",
    "\n",
    "### Description of the dataset\n",
    "\n",
    "Compiled occurrence records for prey items of listed species found in California drylands with associated environmental data. This is a synthesized dataset from 1945 to 2022 containing non-sensitive data. \n",
    "\n",
    "*citation:* Rachel King, Jenna Braun, Michael Westphal, & CJ Lortie. (2023). Compiled occurrence records for prey items of listed species found in California drylands with associated environmental data. Knowledge Network for Biocomplexity. doi:10.5063/F1VM49RH.\n",
    "\n",
    "Date of access: [10/3/]"
   ]
  }
 ],
 "metadata": {
  "kernelspec": {
   "display_name": "Python 3.10.0",
   "language": "python",
   "name": "python3.10.0"
  },
  "language_info": {
   "codemirror_mode": {
    "name": "ipython",
    "version": 3
   },
   "file_extension": ".py",
   "mimetype": "text/x-python",
   "name": "python",
   "nbconvert_exporter": "python",
   "pygments_lexer": "ipython3",
   "version": "3.10.0"
  }
 },
 "nbformat": 4,
 "nbformat_minor": 5
}
